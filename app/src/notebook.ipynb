{
 "cells": [
  {
   "cell_type": "code",
   "execution_count": 55,
   "metadata": {},
   "outputs": [],
   "source": [
    "#Importar librerias\n",
    "from bs4 import BeautifulSoup #nos permite extraer la informacion\n",
    "from selenium import webdriver #nos permite manipular el driver\n",
    "from selenium.common.exceptions import WebDriverException #nos permite manipular las exc epciones del navegador\n",
    "import pandas as pd #nos permite manejar los datos de manera organizada\n",
    "from datetime import date #nos permite mamanejar fechas\n",
    "import time #nos permite manejar formatos\n",
    "import os #Importar primero toda la libreria\n",
    "from os import pathsep # nos permite parchar las rutas del driver"
   ]
  },
  {
   "cell_type": "code",
   "execution_count": 56,
   "metadata": {},
   "outputs": [],
   "source": [
    "#Rutas del driver\n",
    "crome_driver_patch = 'C:/Users/LEANM/OneDrive/Escritorio/Extractor del exito/chromedriver_win32/chromedriver' #Establecer la ruta del driver\n",
    "os.environ[\"PATH\"] += os.pathsep + crome_driver_patch #Parchar la ruta que quede fija\n",
    "\n",
    "#Ejecutar el driver\n",
    "driver = webdriver.Chrome()"
   ]
  },
  {
   "cell_type": "code",
   "execution_count": 57,
   "metadata": {},
   "outputs": [],
   "source": [
    "Home_link = \"https://www.olimpica.com\"\n",
    "search_nkw = \"ryzen\".replace(\" \",\"+\")\n",
    "\n",
    "driver.get(Home_link+\"/portatiles?_q=portatiles&map=ft\")\n",
    "\n",
    "page = BeautifulSoup(driver.page_source,'html.parser')"
   ]
  },
  {
   "cell_type": "code",
   "execution_count": null,
   "metadata": {},
   "outputs": [],
   "source": [
    "\"\"\" driver.get(url)\n",
    "if driver.current_url == url:\n",
    "    print(\"La página se ha cargado correctamente\")\n",
    "else:\n",
    "    print(\"La página no se ha cargado correctamente\") \"\"\""
   ]
  },
  {
   "cell_type": "code",
   "execution_count": 63,
   "metadata": {},
   "outputs": [
    {
     "name": "stdout",
     "output_type": "stream",
     "text": [
      "\n",
      "titulo\n",
      "Portátil Lenovo 14 Pulgadas Ryzen 3 256 GB SSD 8 GB RAM Ip 1 14Ada7\n",
      "precio\n",
      "1.619.400\n",
      "\n",
      "titulo\n",
      "Portátil Lenovo 14 Pulgadas IdeaPad 3 Ryzen 5 512GB SSD 8 GB RAM 14Alc6\n",
      "precio\n",
      "3.899.000\n",
      "\n",
      "titulo\n",
      "Portátil HP 14 Pulgadas AMD Ryzen 5 256 GB SSD 12 GB RAM 14-fq1012la\n",
      "precio\n",
      "2.034.450\n",
      "\n",
      "titulo\n",
      "Portátil Acer 15,6 Pulgadas Intel Core I3 256 GB SSD 8 GB RAM\n",
      "precio\n",
      "1.494.350\n",
      "\n",
      "titulo\n",
      "Portátil Acer Gaming 15,6 Pulgadas Intel Core I5 512 GB SSD 8 GB RAM\n",
      "precio\n",
      "3.249.350\n",
      "\n",
      "titulo\n",
      "Asus Portatil Vivo Book M1402 Ryzen 5 8Gb 256Gb Ssd 14 Pulgadas\n",
      "precio\n",
      "2.107.380\n"
     ]
    }
   ],
   "source": [
    "\n",
    "for portatiles in page.find_all('div', class_='vtex-search-result-3-x-galleryItem'):\n",
    "    title = portatiles.find('h3', class_='vtex-product-summary-2-x-productNameContainer')\n",
    "    if title:\n",
    "        print()\n",
    "        print('titulo')\n",
    "        print(title.text.strip())\n",
    "    else:\n",
    "        print(\"No se encontro titulo\")\n",
    "    \n",
    "    precio = portatiles.find('div', class_='vtex-product-price-1-x-sellingPrice--hasListPrice--dynamicF')\n",
    "    if precio:\n",
    "        a = precio.find_all('span', class_='olimpica-dinamic-flags-0-x-currencyInteger')\n",
    "        precio_ = '.'.join(b.text.strip() for b in a)\n",
    "        print('precio')\n",
    "        print(precio_)\n",
    "    else:\n",
    "        print(\"No se encontró el precio\")\n"
   ]
  }
 ],
 "metadata": {
  "kernelspec": {
   "display_name": "myenv",
   "language": "python",
   "name": "python3"
  },
  "language_info": {
   "codemirror_mode": {
    "name": "ipython",
    "version": 3
   },
   "file_extension": ".py",
   "mimetype": "text/x-python",
   "name": "python",
   "nbconvert_exporter": "python",
   "pygments_lexer": "ipython3",
   "version": "3.10.11"
  },
  "orig_nbformat": 4
 },
 "nbformat": 4,
 "nbformat_minor": 2
}
